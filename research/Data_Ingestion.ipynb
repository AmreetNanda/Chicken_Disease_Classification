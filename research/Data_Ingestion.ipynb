{
 "cells": [
  {
   "cell_type": "markdown",
   "id": "7c2cada6",
   "metadata": {},
   "source": [
    "### First to the current working directory"
   ]
  },
  {
   "cell_type": "code",
   "execution_count": 100,
   "id": "09b4f6de",
   "metadata": {},
   "outputs": [
    {
     "data": {
      "text/plain": [
       "'C:\\\\Users\\\\Amreet\\\\Desktop\\\\Chicken Disease Classification'"
      ]
     },
     "execution_count": 100,
     "metadata": {},
     "output_type": "execute_result"
    }
   ],
   "source": [
    "import os\n",
    "os.chdir(r\"C:\\Users\\Amreet\\Desktop\\Chicken Disease Classification\")\n",
    "%pwd"
   ]
  },
  {
   "cell_type": "code",
   "execution_count": 101,
   "id": "878d2f1f",
   "metadata": {},
   "outputs": [],
   "source": [
    "import os\n",
    "import shutil\n",
    "import zipfile\n",
    "import yaml\n",
    "from pathlib import Path\n",
    "from box import ConfigBox\n",
    "from dataclasses import dataclass\n",
    "from dataclasses import asdict\n",
    "import logging"
   ]
  },
  {
   "cell_type": "markdown",
   "id": "61982267",
   "metadata": {},
   "source": [
    "### Update the Entity"
   ]
  },
  {
   "cell_type": "code",
   "execution_count": 102,
   "id": "96f2ad3c",
   "metadata": {},
   "outputs": [],
   "source": [
    "from dataclasses import dataclass\n",
    "from pathlib import Path\n",
    "\n",
    "\n",
    "@dataclass\n",
    "class DataIngestionConfig:\n",
    "    root_dir: str\n",
    "    source_URL: str\n",
    "    local_data_file: str\n",
    "    unzip_dir: str"
   ]
  },
  {
   "cell_type": "code",
   "execution_count": 103,
   "id": "a668f216",
   "metadata": {},
   "outputs": [],
   "source": [
    "# ---- Logger ----\n",
    "logger = logging.getLogger(__name__)\n",
    "logging.basicConfig(level=logging.INFO)"
   ]
  },
  {
   "cell_type": "markdown",
   "id": "3c050422",
   "metadata": {},
   "source": [
    "### Update the Configuration Manager in src config"
   ]
  },
  {
   "cell_type": "code",
   "execution_count": 104,
   "id": "cc70eb63",
   "metadata": {},
   "outputs": [],
   "source": [
    "from chicken_classifier.constants import *\n",
    "from chicken_classifier.utils.common import *"
   ]
  },
  {
   "cell_type": "code",
   "execution_count": 105,
   "id": "9e4aec0e",
   "metadata": {},
   "outputs": [],
   "source": [
    "class ConfigurationManager:\n",
    "    def __init__(self, config_filepath=\"config.yaml\"):\n",
    "        with open(config_filepath, \"r\") as f:\n",
    "            self.config = ConfigBox(yaml.safe_load(f))\n",
    "\n",
    "        os.makedirs(self.config.artifacts_root, exist_ok=True)\n",
    "\n",
    "    def get_data_ingestion_config(self) -> DataIngestionConfig:\n",
    "        cfg = self.config.data_ingestion\n",
    "        os.makedirs(cfg.root_dir, exist_ok=True)\n",
    "\n",
    "        return DataIngestionConfig(\n",
    "            root_dir=cfg.root_dir,\n",
    "            source_URL=cfg.source_URL,\n",
    "            local_data_file=cfg.local_data_file,\n",
    "            unzip_dir=cfg.unzip_dir\n",
    "        )"
   ]
  },
  {
   "cell_type": "markdown",
   "id": "b73b5ed1",
   "metadata": {},
   "source": [
    "### Update the components"
   ]
  },
  {
   "cell_type": "code",
   "execution_count": 106,
   "id": "eaa2c201",
   "metadata": {},
   "outputs": [],
   "source": [
    "import os\n",
    "import urllib.request as request\n",
    "import zipfile\n",
    "import shutil\n",
    "from chicken_classifier import logger"
   ]
  },
  {
   "cell_type": "code",
   "execution_count": 107,
   "id": "099d855f",
   "metadata": {},
   "outputs": [],
   "source": [
    "import os\n",
    "import shutil\n",
    "import zipfile\n",
    "from pathlib import Path\n",
    "import logging\n",
    "\n",
    "logger = logging.getLogger(__name__)\n",
    "logging.basicConfig(level=logging.INFO)\n",
    "\n",
    "class DataIngestion:\n",
    "    def __init__(self, config: DataIngestionConfig):\n",
    "        self.config = config\n",
    "\n",
    "    def download_file(self):\n",
    "        local_file = Path(self.config.local_data_file)\n",
    "\n",
    "        if not local_file.exists():\n",
    "            shutil.copy(self.config.source_URL, local_file)\n",
    "            logger.info(f\"Copied local file from {self.config.source_URL} → {local_file}\")\n",
    "        else:\n",
    "            logger.info(f\"File already exists: {local_file} ({get_size(local_file)})\")\n",
    "\n",
    "    def extract_zip_file(self):\n",
    "        unzip_path = Path(self.config.unzip_dir)\n",
    "        os.makedirs(unzip_path, exist_ok=True)\n",
    "\n",
    "        with zipfile.ZipFile(self.config.local_data_file, \"r\") as zip_ref:\n",
    "            zip_ref.extractall(unzip_path)\n",
    "\n",
    "        logger.info(f\"Extracted {self.config.local_data_file} → {unzip_path}\")\n"
   ]
  },
  {
   "cell_type": "markdown",
   "id": "21e5cdff",
   "metadata": {},
   "source": [
    "### Update Pipeline"
   ]
  },
  {
   "cell_type": "code",
   "execution_count": 108,
   "id": "ab6b25a3",
   "metadata": {},
   "outputs": [
    {
     "name": "stdout",
     "output_type": "stream",
     "text": [
      "[2025-09-19 00:04:15,542: INFO: 1031855767: Copied local file from C:/Users/Amreet/Desktop/New folder (6)/chicken_image.zip → artifacts\\data_ingestion\\data.zip]\n",
      "[2025-09-19 00:04:28,066: INFO: 1031855767: Extracted artifacts/data_ingestion/data.zip → artifacts\\data_ingestion]\n"
     ]
    }
   ],
   "source": [
    "try:\n",
    "    config = ConfigurationManager(\"config/config.yaml\")\n",
    "    data_ingestion_config = config.get_data_ingestion_config()\n",
    "    data_ingestion = DataIngestion(config=data_ingestion_config)\n",
    "\n",
    "    data_ingestion.download_file()\n",
    "    data_ingestion.extract_zip_file()\n",
    "\n",
    "except Exception as e:\n",
    "    raise e\n"
   ]
  }
 ],
 "metadata": {
  "kernelspec": {
   "display_name": "venv2",
   "language": "python",
   "name": "python3"
  },
  "language_info": {
   "codemirror_mode": {
    "name": "ipython",
    "version": 3
   },
   "file_extension": ".py",
   "mimetype": "text/x-python",
   "name": "python",
   "nbconvert_exporter": "python",
   "pygments_lexer": "ipython3",
   "version": "3.11.0"
  }
 },
 "nbformat": 4,
 "nbformat_minor": 5
}
